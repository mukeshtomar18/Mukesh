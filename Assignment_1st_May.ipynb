{
  "nbformat": 4,
  "nbformat_minor": 0,
  "metadata": {
    "colab": {
      "name": "Assignment 1st May",
      "provenance": [],
      "collapsed_sections": []
    },
    "kernelspec": {
      "name": "python3",
      "display_name": "Python 3"
    }
  },
  "cells": [
    {
      "cell_type": "code",
      "metadata": {
        "id": "e29WwMTXEjap",
        "colab_type": "code",
        "colab": {}
      },
      "source": [
        ""
      ],
      "execution_count": 0,
      "outputs": []
    },
    {
      "cell_type": "markdown",
      "metadata": {
        "id": "mHvEAc-LFg1h",
        "colab_type": "text"
      },
      "source": [
        "1st Task"
      ]
    },
    {
      "cell_type": "code",
      "metadata": {
        "id": "tjIz4BoPFmRb",
        "colab_type": "code",
        "colab": {
          "base_uri": "https://localhost:8080/",
          "height": 136
        },
        "outputId": "87d1bdb1-da24-463d-bc69-bbfdcec3b9ba"
      },
      "source": [
        "x=int(input())\n",
        "print(\"input the data\")\n",
        "a=(1,2,4,5,3,4,5,4,5,4,2)\n",
        "b=[]\n",
        "\n",
        "for i in a:\n",
        "  if i==x:\n",
        "    print(i)\n",
        "    b.append(i)\n",
        "print(b)"
      ],
      "execution_count": 2,
      "outputs": [
        {
          "output_type": "stream",
          "text": [
            "4\n",
            "input the data\n",
            "4\n",
            "4\n",
            "4\n",
            "4\n",
            "[4, 4, 4, 4]\n"
          ],
          "name": "stdout"
        }
      ]
    },
    {
      "cell_type": "markdown",
      "metadata": {
        "id": "bOnVTXxcF2D1",
        "colab_type": "text"
      },
      "source": [
        "2nd task\n",
        "Write a program which will find all such numbers which are divisible by 7 but are not a multiple\n",
        "of 5, between 2000 and 3200 (both included). The numbers obtained should be printed in a\n",
        "comma-separated sequence on a single line"
      ]
    },
    {
      "cell_type": "code",
      "metadata": {
        "id": "Qxvgu6BhKNhD",
        "colab_type": "code",
        "colab": {
          "base_uri": "https://localhost:8080/",
          "height": 54
        },
        "outputId": "da16b3cc-b33b-492e-b814-cc958d8baa15"
      },
      "source": [
        "a=list(range(2000,3201,1))\n",
        "c=[]\n",
        "for i in a:\n",
        "  if i%7== 0:\n",
        "    if i%5!=0:\n",
        "      c.append(i) \n",
        "print(c)\n",
        "\n"
      ],
      "execution_count": 69,
      "outputs": [
        {
          "output_type": "stream",
          "text": [
            "[2002, 2009, 2016, 2023, 2037, 2044, 2051, 2058, 2072, 2079, 2086, 2093, 2107, 2114, 2121, 2128, 2142, 2149, 2156, 2163, 2177, 2184, 2191, 2198, 2212, 2219, 2226, 2233, 2247, 2254, 2261, 2268, 2282, 2289, 2296, 2303, 2317, 2324, 2331, 2338, 2352, 2359, 2366, 2373, 2387, 2394, 2401, 2408, 2422, 2429, 2436, 2443, 2457, 2464, 2471, 2478, 2492, 2499, 2506, 2513, 2527, 2534, 2541, 2548, 2562, 2569, 2576, 2583, 2597, 2604, 2611, 2618, 2632, 2639, 2646, 2653, 2667, 2674, 2681, 2688, 2702, 2709, 2716, 2723, 2737, 2744, 2751, 2758, 2772, 2779, 2786, 2793, 2807, 2814, 2821, 2828, 2842, 2849, 2856, 2863, 2877, 2884, 2891, 2898, 2912, 2919, 2926, 2933, 2947, 2954, 2961, 2968, 2982, 2989, 2996, 3003, 3017, 3024, 3031, 3038, 3052, 3059, 3066, 3073, 3087, 3094, 3101, 3108, 3122, 3129, 3136, 3143, 3157, 3164, 3171, 3178, 3192, 3199]\n"
          ],
          "name": "stdout"
        }
      ]
    },
    {
      "cell_type": "markdown",
      "metadata": {
        "id": "ndNY3Iu6PFma",
        "colab_type": "text"
      },
      "source": [
        "3nd task:Write a Python program to accept the user's first and last name and then getting them printed in\n",
        "the the reverse order with a space between first name and last name."
      ]
    },
    {
      "cell_type": "code",
      "metadata": {
        "id": "iwbhnoccPLWP",
        "colab_type": "code",
        "colab": {
          "base_uri": "https://localhost:8080/",
          "height": 102
        },
        "outputId": "9e44d4b0-c52c-4883-ae19-d267008bca03"
      },
      "source": [
        "print(\"enter your first name\")\n",
        "a=input()\n",
        "print(\"enter your last name\")\n",
        "b=input()\n",
        "print(a[::-1] +\" \"+ b[::-1] )"
      ],
      "execution_count": 53,
      "outputs": [
        {
          "output_type": "stream",
          "text": [
            "enter your first name\n",
            "mukesh\n",
            "enter your last name\n",
            "tomar\n",
            "hsekum ramot\n"
          ],
          "name": "stdout"
        }
      ]
    },
    {
      "cell_type": "markdown",
      "metadata": {
        "id": "VjFjQ65NU0Ji",
        "colab_type": "text"
      },
      "source": [
        ""
      ]
    },
    {
      "cell_type": "markdown",
      "metadata": {
        "id": "03HEPEIfabEa",
        "colab_type": "text"
      },
      "source": [
        "4th Task:Write a Python program to find the volume of a sphere with diameter 12 cm.\n",
        "Formula: V=4/3 * π * r\n",
        "3"
      ]
    },
    {
      "cell_type": "code",
      "metadata": {
        "id": "vcAKIZOOF3d6",
        "colab_type": "code",
        "colab": {}
      },
      "source": [
        "\n"
      ],
      "execution_count": 0,
      "outputs": []
    },
    {
      "cell_type": "markdown",
      "metadata": {
        "id": "38Tr8E2xbP75",
        "colab_type": "text"
      },
      "source": [
        "5th task:Write a program which accepts a sequence of comma-separated numbers from console and\n",
        "generate a list."
      ]
    },
    {
      "cell_type": "code",
      "metadata": {
        "id": "jrkG2BsVbY3F",
        "colab_type": "code",
        "colab": {
          "base_uri": "https://localhost:8080/",
          "height": 68
        },
        "outputId": "11e40461-9ab1-456a-9316-31a00bec385e"
      },
      "source": [
        "a=input()\n",
        "print(a)\n",
        "b=[]\n",
        "b.append(a)\n",
        "print(b)\n",
        "\n",
        "\n",
        "\n",
        "\n"
      ],
      "execution_count": 99,
      "outputs": [
        {
          "output_type": "stream",
          "text": [
            "1,2,3,4\n",
            "1,2,3,4\n",
            "['1,2,3,4']\n"
          ],
          "name": "stdout"
        }
      ]
    },
    {
      "cell_type": "markdown",
      "metadata": {
        "id": "IR_E07zv7G3P",
        "colab_type": "text"
      },
      "source": [
        "6th Task:Create the below pattern using nested for loop in Python.\n",
        "*\n",
        "* *\n",
        "* * *\n",
        "* * * *\n",
        "* * * * *\n",
        "* * * *\n",
        "* * *\n",
        "* *\n",
        "*\n"
      ]
    },
    {
      "cell_type": "code",
      "metadata": {
        "id": "VRQ4wA577KAw",
        "colab_type": "code",
        "colab": {
          "base_uri": "https://localhost:8080/",
          "height": 34
        },
        "outputId": "11dc6650-0b61-45c0-c7e2-6d8f057b8627"
      },
      "source": [
        "a=5\n",
        "for x in range(a):\n",
        "  for y in range(x)\n",
        "    print(\"*\")\n",
        "  if a<5\n",
        "print(a)"
      ],
      "execution_count": 104,
      "outputs": [
        {
          "output_type": "stream",
          "text": [
            "*\n"
          ],
          "name": "stdout"
        }
      ]
    },
    {
      "cell_type": "markdown",
      "metadata": {
        "id": "qwPQBVwU7oSn",
        "colab_type": "text"
      },
      "source": [
        "7th Tack:Write a Python program to reverse a word after accepting the input from the user.\n",
        "Sample Output:\n",
        "Input word: AcadGild\n",
        "Output: dilGdacA"
      ]
    },
    {
      "cell_type": "code",
      "metadata": {
        "id": "olufg7fRbsnw",
        "colab_type": "code",
        "colab": {
          "base_uri": "https://localhost:8080/",
          "height": 51
        },
        "outputId": "e9ea1c2b-1dfd-478d-cf2d-4998faeec8d7"
      },
      "source": [
        "a=input()\n",
        "print(a[::-1])"
      ],
      "execution_count": 100,
      "outputs": [
        {
          "output_type": "stream",
          "text": [
            "AcadGild\n",
            "dliGdacA\n"
          ],
          "name": "stdout"
        }
      ]
    },
    {
      "cell_type": "markdown",
      "metadata": {
        "id": "1Sd2PWsx8KKV",
        "colab_type": "text"
      },
      "source": [
        "8th task:Write a Python Program to print the given string in the format specified in the sample output.\n",
        "WE, THE PEOPLE OF INDIA, having solemnly resolved to constitute India into a\n",
        "SOVEREIGN, SOCIALIST, SECULAR, DEMOCRATIC REPUBLIC and to secure to all\n",
        "its citizens\n",
        "Sample Output:\n",
        "WE, THE PEOPLE OF INDIA,\n",
        "having solemnly resolved to constitute India into a SOVEREIGN, !\n",
        "SOCIALIST, SECULAR, DEMOCRATIC REPUBLIC\n",
        "and to secure to all its citizens"
      ]
    },
    {
      "cell_type": "code",
      "metadata": {
        "id": "ogJi4Ez_8RJI",
        "colab_type": "code",
        "colab": {}
      },
      "source": [
        ""
      ],
      "execution_count": 0,
      "outputs": []
    }
  ]
}